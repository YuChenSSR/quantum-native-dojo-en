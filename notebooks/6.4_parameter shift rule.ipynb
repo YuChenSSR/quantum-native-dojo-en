{
 "cells": [
  {
   "attachments": {},
   "cell_type": "markdown",
   "metadata": {
    "colab_type": "text",
    "id": "8xIq6dtwsyL7"
   },
   "source": [
    "## 6-2. Parameter shift rule\n",
    "\n",
    "In this section, we demonstrate a method known as a _parameter shift rule_. Parameter Shift Rule provides an elegant way to compute gradients of an objective function with respect to the parameters in a variational quantum circuit. The rule defines the gradient of an arbitrary function $f(θ)$ with respect to a parameter $θ=θ_1,...,θ_i$ in terms of the function values evaluated at shifted parameter values. The central idea is to express the gradient using the function itself, evaluated at two nearby points.\n",
    "\n",
    "The rule states:\n",
    "\n",
    "For a parameterized function $f(θ)$ and a parameter $θ$, where f(θ) can be expressed in terms of unitary operations or quantum circuits, the gradient with respect to $θ$ is given by:\n",
    "$$\\frac{\\partial f}{\\partial θ}= \\frac{1}{2} \\left( f(\\theta + \\frac{\\pi}{2}) - f(\\theta - \\frac{\\pi}{2}) \\right)$$\n",
    "\n",
    "###Applying the Parameter Shift Rule\n",
    "To apply the rule to a quantum circuit, evaluate the circuit at $\\theta + \\frac{\\pi}{2}$ and $\\theta - \\frac{\\pi}{2}$, and compute the function values. Then, use these values in the above formula to obtain the gradient with respect to the parameter $\\theta.$\n",
    "\n",
    "The advantage of this rule in the context of quantum circuits is that it alleviates the need for complex differentiation techniques, making it computationally feasible for optimization tasks on quantum devices.\n",
    "\n",
    "### Practical applications: \n",
    "The Parameter Shift Rule is particularly useful in the context of noisy intermediate-scale quantum (NISQ) devices where noise and error rates can significantly impact the gradient evaluation. Its efficiency and simplicity make it a favored method in training quantum models on near-term quantum computers.\n"
    
   ]
  },
