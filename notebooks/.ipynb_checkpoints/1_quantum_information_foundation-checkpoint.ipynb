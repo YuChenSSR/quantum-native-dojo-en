{
 "cells": [
  {
   "cell_type": "markdown",
   "metadata": {
    "colab_type": "text",
    "id": "A46fkXZnkD6Z"
   },
   "source": [
    "# 第1章 量子情報の基礎\n",
    "\n",
    "# Chapter 1: Fundamentals of Quantum Information"
   ]
  },
  {
   "cell_type": "markdown",
   "metadata": {
    "colab_type": "text",
    "id": "va9-CH5yj8be"
   },
   "source": [
    "第1章では、量子コンピュータの仕組みを完全に理解するために必要な量子力学をマスターし、量子コンピュータの状態や操作をどのように記述すればいいのかを学ぶ。特に、テンソル積という考え方が量子コンピュータを深く理解するうえで必須である。テンソル積の計算は少し複雑であるが、Pythonの数式処理ライブラリ[SymPy](https://www.sympy.org/en/index.html)では、テンソル積を含めた量子力学の代数処理がサポートされているので、SymPyを用いた計算結果を見ながら量子力学と量子コンピュータの基礎の理解をすすめていこう。\n",
    "\n",
    "In Chapter 1, you will learn how to master quantum mechanics, which is necessary to fully understand how quantum computers work, and how to describe the states and operations of quantum computers. In particular, the idea of tensor products is essential for a deep understanding of quantum computers. Although the computation of tensor products is a bit complicated, the Python math processing library [SymPy](https://www.sympy.org/en/index.html) supports algebraic processing of quantum mechanics, including tensor products, so you will be able to see the results of calculations using SymPy. Let's look at the results of calculations using SymPy to understand the basics of quantum mechanics and quantum computers."
   ]
  },
  {
   "cell_type": "markdown",
   "metadata": {
    "nbsphinx-toctree": {}
   },
   "source": [
    "- [1-1. qubit representation](1.1_qubit_representation.ipynb)\n",
    "- [1-2. qubit operations](1.2_qubit_operations.ipynb)\n",
    "- [1-3. multiqubit representation and operations](1.3_multiqubit_representation_and_operations.ipynb)\n",
    "- [1-4. 回路図の](1.4_quantum_circuit_diagram.ipynb)\n",
    "- [コラム: 量子複製不可能 (No-Cloning) 定理・Bell (CHSH) 不等式](1.c_CHSH-inequality_etc.ipynb)"
   ]
  }
 ],
 "metadata": {
  "celltoolbar": "Edit Metadata",
  "kernelspec": {
   "display_name": "Python 3",
   "language": "python",
   "name": "python3"
  },
  "language_info": {
   "codemirror_mode": {
    "name": "ipython",
    "version": 3
   },
   "file_extension": ".py",
   "mimetype": "text/x-python",
   "name": "python",
   "nbconvert_exporter": "python",
   "pygments_lexer": "ipython3",
   "version": "3.8.3"
  }
 },
 "nbformat": 4,
 "nbformat_minor": 2
}
